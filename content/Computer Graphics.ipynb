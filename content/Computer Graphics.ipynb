{
  "metadata": {
    "kernelspec": {
      "name": "p5js",
      "display_name": "p5.js",
      "language": "javascript"
    },
    "language_info": {
      "codemirror_mode": {
        "name": "javascript"
      },
      "file_extension": ".js",
      "mimetype": "text/javascript",
      "name": "p5js",
      "nbconvert_exporter": "javascript",
      "pygments_lexer": "javascript",
      "version": "es2017"
    }
  },
  "nbformat_minor": 4,
  "nbformat": 4,
  "cells": [
    {
      "cell_type": "markdown",
      "source": "# Introduction to P5.js\nThis programming language can be used to make amazing computer graphics.  We can start with some simple aspects of the language.  We can store values in variables.",
      "metadata": {}
    },
    {
      "cell_type": "code",
      "source": "var number = 3\nprint(number);",
      "metadata": {
        "trusted": true
      },
      "outputs": [
        {
          "event": "stream",
          "name": "stdout",
          "text": "3\n",
          "output_type": "stream"
        }
      ],
      "execution_count": 4
    },
    {
      "cell_type": "markdown",
      "source": "We an also store other values in variables like strings.",
      "metadata": {}
    },
    {
      "cell_type": "code",
      "source": "var greeting = \"Hello, World!\";\nvar greeting2 = \"Hi, \";\nvar subject = \"FabLab\";\nprint(greeting);\nprint(greeting2+subject);",
      "metadata": {
        "trusted": true
      },
      "outputs": [
        {
          "event": "stream",
          "name": "stdout",
          "text": "Hello, World!\nHi, FabLab\n",
          "output_type": "stream"
        }
      ],
      "execution_count": 5
    },
    {
      "cell_type": "markdown",
      "source": "We can control when code runs through flow of control.  For instance, we can have a loop that causes code to run multiple times.  Here is a simple loop:",
      "metadata": {}
    },
    {
      "cell_type": "code",
      "source": "for (let x = 0; x < 10; x++) {\n    print(\"Hello, World! \" + x);\n}",
      "metadata": {
        "trusted": true
      },
      "outputs": [
        {
          "event": "stream",
          "name": "stdout",
          "text": "Hello, World! 0\nHello, World! 1\nHello, World! 2\nHello, World! 3\nHello, World! 4\nHello, World! 5\nHello, World! 6\nHello, World! 7\nHello, World! 8\nHello, World! 9\n",
          "output_type": "stream"
        }
      ],
      "execution_count": 8
    },
    {
      "cell_type": "markdown",
      "source": "# Drawing with P5.js\nWe can draw simple shapes with p5.js.  The simplest thing to draw is a circle.  We start by creating a canvas, then adding a circle to the draw function. \n\nWe can set the color of the circle with a simple word, or we can define a color with components of red, green, and blue.",
      "metadata": {}
    },
    {
      "cell_type": "code",
      "source": "function setup() {\n  createCanvas(400, 400);\n}\n\nfunction draw() {\n  background(color(0,130, 255));\n  fill(color(150, 0, 150));\n  circle(50,50,25);\n}",
      "metadata": {
        "trusted": true
      },
      "outputs": [],
      "execution_count": 15
    },
    {
      "cell_type": "code",
      "source": "%show",
      "metadata": {
        "trusted": true
      },
      "outputs": [
        {
          "output_type": "display_data",
          "data": {
            "text/html-sandboxed": "<body style=\"overflow: hidden;\">\n<script>\n        \n    import('https://cdn.jsdelivr.net/npm/p5@1.4.2/lib/p5.js').then(() => {\n      // create the p5 global instance\n      window.__globalP5 = new p5();\n      return Promise.resolve();\n    })\n  .then(() => {\n          try {\nwindow.eval(`function setup() {\n  createCanvas(400, 400);\n}\n\nfunction draw() {\n  background(220);\n  fill(color(\"yellow\"));\n  circle(50,50,25);\n}`);\n} catch(e) {}\ntry {\nwindow.eval(`var number = 3\nprint(number);`);\n} catch(e) {}\ntry {\nwindow.eval(`var greeting = \"Hello, World!\";\nvar greeting2 = \"Hi, \";\nvar subject = \"FabLab\";\nprint(greeting);\nprint(greeting2+subject);`);\n} catch(e) {}\ntry {\nwindow.eval(`for (let x = 0; x < 10; x++) {\n    print(\"Hello, World!\" + x);\n}`);\n} catch(e) {}\ntry {\nwindow.eval(`for (let x = 0; x < 10; x++) {\n    print(\"Hello, World! \" + x);\n}`);\n} catch(e) {}\ntry {\nwindow.eval(`function setup() {\n  createCanvas(400, 400);\n}\n\nfunction draw() {\n  background(220);\n  fill(color(\"yellow\"));\n  circle(50,50,25);\n}`);\n} catch(e) {}\ntry {\nwindow.eval(`function setup() {\n  createCanvas(400, 400);\n}\n\nfunction draw() {\n  background(color(0,130, 255));\n  fill(color(150, 200, 0));\n  circle(50,50,25);\n}`);\n} catch(e) {}\ntry {\nwindow.eval(`function setup() {\n  createCanvas(400, 400);\n}\n\nfunction draw() {\n  background(color(0,130, 255));\n  fill(color(150, 150, 0));\n  circle(50,50,25);\n}`);\n} catch(e) {}\ntry {\nwindow.eval(`function setup() {\n  createCanvas(400, 400);\n}\n\nfunction draw() {\n  background(color(0,130, 255));\n  fill(color(150, 0, 150));\n  circle(50,50,25);\n}`);\n} catch(e) {}\ntry {\nwindow.eval(`function setup() {\n  createCanvas(400, 400);\n}\n\nfunction draw() {\n  background(color(0,130, 255));\n  fill(color(150, 0, 150));\n  square(200,200,150);\n}`);\n} catch(e) {}\ntry {\nwindow.eval(`function setup() {\n  createCanvas(400, 400);\n}\n\nfunction draw() {\n  background(color(0,130, 255));\n  for (let x = 0; x < 10; x++) {\n      fill(color(random(100,150), 0, random(150, 175)));\n      square(random (0, 250),random (0, 250),random(10, 25));\n    }\n}`);\n} catch(e) {}\ntry {\nwindow.eval(`function setup() {\n  createCanvas(400, 400);\n    background(color(0,130, 255));\n  for (let x = 0; x < 10; x++) {\n      fill(color(random(100,150), 0, random(150, 175)));\n      square(random (0, 250),random (0, 250),random(10, 25));\n    }\n}\n\nfunction draw() {\n  \n}`);\n} catch(e) {}\ntry {\nwindow.eval(`function setup() {\n  createCanvas(400, 400);\n    background(color(0,130, 255));\n  for (let x = 0; x < 100; x++) {\n      fill(color(random(100,150), 0, random(150, 175)));\n      square(random (0, 250),random (0, 250),random(10, 25));\n    }\n}\n\nfunction draw() {\n  \n}`);\n} catch(e) {}\ntry {\nwindow.eval(`function setup() {\n  createCanvas(400, 400);\n    background(color(0,130, 255));\n  for (let x = 0; x < 100; x++) {\n      fill(color(random(100,150), 0, random(150, 175)));\n      square(random (0, 400),random (0, 400),random(10, 35));\n    }\n}\n\nfunction draw() {\n  \n}`);\n} catch(e) {}\ntry {\nwindow.eval(`function setup() {\n  createCanvas(400, 400);\n    background(color(0,130, 255));\n  for (let x = 0; x < 250; x++) {\n      fill(color(random(100,150), 0, random(150, 175)));\n      square(random (0, 400),random (0, 400),random(10, 35));\n    }\n}\n\nfunction draw() {\n  \n}`);\n} catch(e) {}\ntry {\nwindow.eval(`function setup() {\n  createCanvas(400, 400);\n    background(color(0,130, 255));\n  for (let x = 0; x < 250; x++) {\n      fill(color(random(100,150), 0, random(150, 175)));\n      square(random (0, 400),random (0, 400),random(10, 35));\n    }\n    textSize(50);\n    fill(255);\n    stroke(0);\n    strokeWeight(4);\n    text('FabLab', 50, 50);\n}\n\nfunction draw() {\n  \n}`);\n} catch(e) {}\ntry {\nwindow.eval(`function setup() {\n  createCanvas(400, 400);\n    background(color(0,130, 255));\n  for (let x = 0; x < 250; x++) {\n      fill(color(random(100,150), 0, random(150, 175)));\n      square(random (0, 400),random (0, 400),random(10, 35));\n    }\n    textSize(50);\n    fill(255);\n    stroke(0);\n    strokeWeight(4);\n    text('FabLab', 150, 200);\n}\n\nfunction draw() {\n  \n}`);\n} catch(e) {}\ntry {\nwindow.eval(`function setup() {\n  createCanvas(400, 400);\n    background(color(0,130, 255));\n  for (let x = 0; x < 250; x++) {\n      fill(color(random(100,150), 0, random(150, 175)));\n      square(random (0, 400),random (0, 400),random(10, 35));\n    }\n    textSize(50);\n    fill(255);\n    stroke(0);\n    strokeWeight(4);\n    text('FabLab', 125, 200);\n}\n\nfunction draw() {\n  \n}`);\n} catch(e) {}\ntry {\nwindow.eval(`function setup() {\n  createCanvas(400, 400);\n    background(color(0,130, 255));\n  for (let x = 0; x < 250; x++) {\n      fill(color(random(100,150), 0, random(150, 175)));\n      square(random (0, 400),random (0, 400),random(10, 35));\n    }\n    textSize(80);\n    fill(255);\n    stroke(0);\n    strokeWeight(4);\n    text('FabLab', 125, 200);\n}\n\nfunction draw() {\n  \n}`);\n} catch(e) {}\ntry {\nwindow.eval(`function setup() {\n  createCanvas(400, 400);\n    background(color(0,130, 255));\n  for (let x = 0; x < 250; x++) {\n      fill(color(random(100,150), 0, random(150, 175)));\n      square(random (0, 400),random (0, 400),random(10, 35));\n    }\n    textSize(80);\n    fill(255);\n    stroke(0);\n    strokeWeight(4);\n    text('FabLab', 75, 200);\n}\n\nfunction draw() {\n  \n}`);\n} catch(e) {}\ntry {\nwindow.eval(`function setup() {\n  createCanvas(400, 400);\n    background(color(0,130, 255));\n  for (let x = 0; x < 250; x++) {\n      fill(color(random(100,150), 0, random(150, 175)));\n      square(random (0, 400),random (0, 400),random(10, 35));\n    }\n    textSize(80);\n    fill(255);\n    stroke(0);\n    strokeWeight(4);\n    text('FabLab', 75, 220);\n}\n\nfunction draw() {\n  \n}`);\n} catch(e) {}\n          window.__globalP5._start();\n        })\n      </script>\n</body>"
          },
          "metadata": {
            "text/html-sandboxed": {}
          }
        }
      ],
      "execution_count": 10
    },
    {
      "cell_type": "markdown",
      "source": "## Squares\nWe can define squares like we do with circles.  The arguments are x, y, and the diameter of the square.",
      "metadata": {}
    },
    {
      "cell_type": "code",
      "source": "function setup() {\n  createCanvas(400, 400);\n}\n\nfunction draw() {\n  background(color(0,130, 255));\n  fill(color(150, 0, 150));\n  square(200,200,150);\n}",
      "metadata": {
        "trusted": true
      },
      "outputs": [],
      "execution_count": 16
    },
    {
      "cell_type": "markdown",
      "source": "## Randomness\nWe can create numbers within a range, which is helpful in making patterns.  Here is an exmple of many squares placed around the screen with varying shades.",
      "metadata": {}
    },
    {
      "cell_type": "code",
      "source": "function setup() {\n  createCanvas(400, 400);\n    background(color(0,130, 255));\n  for (let x = 0; x < 250; x++) {\n      fill(color(random(100,150), 0, random(150, 175)));\n      square(random (0, 400),random (0, 400),random(10, 35));\n    }\n}\n\nfunction draw() {\n  \n}",
      "metadata": {
        "trusted": true
      },
      "outputs": [],
      "execution_count": 21
    },
    {
      "cell_type": "markdown",
      "source": "## Text\nWe can add words to our image.  In this case, we'll add \"FabLab\".",
      "metadata": {}
    },
    {
      "cell_type": "code",
      "source": "function setup() {\n  createCanvas(400, 400);\n    background(color(0,130, 255));\n  for (let x = 0; x < 250; x++) {\n      fill(color(random(100,150), 0, random(150, 175)));\n      square(random (0, 400),random (0, 400),random(10, 35));\n    }\n    textSize(80);\n    fill(255);\n    stroke(0);\n    strokeWeight(4);\n    text('FabLab', 75, 220);\n}\n\nfunction draw() {\n  \n}",
      "metadata": {
        "trusted": true
      },
      "outputs": [],
      "execution_count": 28
    }
  ]
}