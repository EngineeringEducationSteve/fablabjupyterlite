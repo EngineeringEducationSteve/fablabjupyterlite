{
  "metadata": {
    "kernelspec": {
      "name": "p5js",
      "display_name": "p5.js",
      "language": "javascript"
    },
    "language_info": {
      "codemirror_mode": {
        "name": "javascript"
      },
      "file_extension": ".js",
      "mimetype": "text/javascript",
      "name": "p5js",
      "nbconvert_exporter": "javascript",
      "pygments_lexer": "javascript",
      "version": "es2017"
    }
  },
  "nbformat_minor": 4,
  "nbformat": 4,
  "cells": [
    {
      "cell_type": "markdown",
      "source": "# Example Book\nThis book is some code I wrote to make a bus.  Can you edit this so that the bus drives?",
      "metadata": {}
    },
    {
      "cell_type": "code",
      "source": "var t = 0;\n\nfunction setup() {\n  createCanvas(400, 400);\n}\n\nfunction draw() {\n  background(220);\n  //t += 0.3\n  //busses should be marigold yellow\n  fill(\"yellow\");\n  rect(100 + t,100, 100, 50);\n  //the tires are black\n  fill(\"black\");\n  circle(120 + t, 150, 20);\n  fill(\"black\");\n  circle(180 + t, 150, 20);\n}",
      "metadata": {
        "trusted": true,
        "scrolled": true
      },
      "outputs": [],
      "execution_count": 10
    },
    {
      "cell_type": "code",
      "source": "%show",
      "metadata": {
        "trusted": true
      },
      "outputs": [
        {
          "output_type": "display_data",
          "data": {
            "text/html-sandboxed": "<body style=\"overflow: hidden;\">\n<script>\n        \n    import('https://cdn.jsdelivr.net/npm/p5@1.4.2/lib/p5.js').then(() => {\n      // create the p5 global instance\n      window.__globalP5 = new p5();\n      return Promise.resolve();\n    })\n  .then(() => {\n          try {\nwindow.eval(`var t = 0;\n\nfunction setup() {\n  createCanvas(400, 400);\n}\n\nfunction draw() {\n  background(220);\n  //t += 0.3\n  //busses should be marigold yellow\n  fill(\"yellow\");\n  rect(100 + t,100, 100, 50);\n  //the tires are black\n  fill(\"black\");\n  circle(120 + t, 150, 20);\n  fill(\"black\");\n  circle(180 + t, 150, 20);\n}`);\n} catch(e) {}\ntry {\nwindow.eval(`var t = 0;\n\nfunction setup() {\n  createCanvas(400, 400);\n}\n\nfunction draw() {\n  background(220);\n  //t += 0.3\n  //busses should be marigold yellow\n  fill(\"yellow\");\n  rect(100 + t,100, 100, 50);\n  //the tires are black\n  fill(\"black\");\n  circle(120 + t, 150, 20);\n  fill(\"black\");\n  circle(180 + t, 150, 20);\n}`);\n} catch(e) {}\ntry {\nwindow.eval(`var t = 0;\n\nfunction setup() {\n  createCanvas(400, 400);\n}\n\nfunction draw() {\n  background(220);\n  //t += 0.3\n  //busses should be marigold yellow\n  fill(\"yellow\");\n  rect(100 + t,100, 100, 50);\n  //the tires are black\n  fill(\"black\");\n  circle(120 + t, 150, 20);\n  fill(\"black\");\n  circle(180 + t, 150, 20);\n}`);\n} catch(e) {}\ntry {\nwindow.eval(`var t = 0;\n\nfunction setup() {\n  createCanvas(400, 400);\n}\n\nfunction draw() {\n  background(220);\n  //t += 0.3\n  //busses should be marigold yellow\n  fill(\"yellow\");\n  rect(100 + t,100, 100, 50);\n  //the tires are black\n  fill(\"black\");\n  circle(120 + t, 150, 20);\n  fill(\"black\");\n  circle(180 + t, 150, 20);\n}`);\n} catch(e) {}\ntry {\nwindow.eval(`var t = 0;\n\nfunction setup() {\n  createCanvas(400, 400);\n}\n\nfunction draw() {\n  background(220);\n  //t += 0.3\n  //busses should be marigold yellow\n  fill(\"yellow\");\n  rect(100 + t,100, 100, 50);\n  //the tires are black\n  fill(\"black\");\n  circle(120 + t, 150, 20);\n  fill(\"black\");\n  circle(180 + t, 150, 20);\n}`);\n} catch(e) {}\ntry {\nwindow.eval(`var t = 0;\n\nfunction setup() {\n  createCanvas(400, 400);\n}\n\nfunction draw() {\n  background(220);\n  //t += 0.3\n  //busses should be marigold yellow\n  fill(\"yellow\");\n  rect(100 + t,100, 100, 50);\n  //the tires are black\n  fill(\"black\");\n  circle(120 + t, 150, 20);\n  fill(\"black\");\n  circle(180 + t, 150, 20);\n}`);\n} catch(e) {}\ntry {\nwindow.eval(`var t = 0;\n\nfunction setup() {\n  createCanvas(400, 400);\n}\n\nfunction draw() {\n  background(220);\n  //t += 0.3\n  //busses should be marigold yellow\n  fill(\"yellow\");\n  rect(100 + t,100, 100, 50);\n  //the tires are black\n  fill(\"black\");\n  circle(120 + t, 150, 20);\n  fill(\"black\");\n  circle(180 + t, 150, 20);\n}`);\n} catch(e) {}\ntry {\nwindow.eval(`var t = 0;\n\nfunction setup() {\n  createCanvas(400, 400);\n}\n\nfunction draw() {\n  background(220);\n  t += 0.3\n  //busses should be marigold yellow\n  fill(\"yellow\");\n  rect(100 + t,100, 100, 50);\n  //the tires are black\n  fill(\"black\");\n  circle(120 + t, 150, 20);\n  fill(\"black\");\n  circle(180 + t, 150, 20);\n}`);\n} catch(e) {}\ntry {\nwindow.eval(`var t = 0;\n\nfunction setup() {\n  createCanvas(400, 400);\n}\n\nfunction draw() {\n  background(220);\n  //t += 0.3\n  //busses should be marigold yellow\n  fill(\"yellow\");\n  rect(100 + t,100, 100, 50);\n  //the tires are black\n  fill(\"black\");\n  circle(120 + t, 150, 20);\n  fill(\"black\");\n  circle(180 + t, 150, 20);\n}`);\n} catch(e) {}\n          window.__globalP5._start();\n        })\n      </script>\n</body>"
          },
          "metadata": {
            "text/html-sandboxed": {}
          }
        }
      ],
      "execution_count": 8
    },
    {
      "cell_type": "code",
      "source": "",
      "metadata": {
        "trusted": true
      },
      "outputs": [],
      "execution_count": null
    }
  ]
}