{
 "cells": [
  {
   "cell_type": "markdown",
   "id": "5388ab7b-e30e-4f74-9ef9-877576b6da56",
   "metadata": {},
   "source": [
    "# Python Introduction\n",
    "<font color=\"black\">Python is a professional programming language.  It is used by engineers in all sorts of applications.</font>\n",
    "## Variables\n",
    "<font color=\"black\">Varibles hold values.</font>"
   ]
  },
  {
   "cell_type": "code",
   "execution_count": 1,
   "id": "f95d32db-b425-46ae-89f2-3cb1fe19e683",
   "metadata": {},
   "outputs": [
    {
     "name": "stdout",
     "output_type": "stream",
     "text": [
      "10080\n"
     ]
    }
   ],
   "source": [
    "days = 7\n",
    "hours = days * 24\n",
    "minutes = hours * 60\n",
    "print(minutes)"
   ]
  },
  {
   "cell_type": "markdown",
   "id": "12ae720e-94d5-4254-b8ca-face92c6a24f",
   "metadata": {},
   "source": [
    "## Functions\n",
    "<font color=\"black\">Functions in a programming language like python can take in values and return a value.  It is similar to a function in math</font>\n"
   ]
  },
  {
   "cell_type": "code",
   "execution_count": 7,
   "id": "eef4cf10-cbc4-46d2-91a2-8465c490e400",
   "metadata": {},
   "outputs": [
    {
     "name": "stdout",
     "output_type": "stream",
     "text": [
      "HELLO!\n"
     ]
    }
   ],
   "source": [
    "def emphasize(statement):\n",
    "    refrase = statement.upper()\n",
    "    refrase = refrase + \"!\"\n",
    "    return refrase\n",
    "\n",
    "print(emphasize(\"Hello\"))"
   ]
  },
  {
   "cell_type": "markdown",
   "id": "3ad774e7-cbf2-4a5a-ab64-6a5194f1dd0f",
   "metadata": {},
   "source": [
    "## Loops\n",
    "<font color=\"black\">\n",
    "Loops, or iteration, allow us to have a computer to run code multiple times.  It is a part of flow of control, generally tied to a condition.  In the case of the example below, as long as the expression evaluates to true the loop keeps running.  Once it is no longer true, the program will exit the loop.</font>"
   ]
  },
  {
   "cell_type": "code",
   "execution_count": 2,
   "id": "c46d918a-7535-44b9-847b-6d664a4c4339",
   "metadata": {},
   "outputs": [
    {
     "name": "stdout",
     "output_type": "stream",
     "text": [
      "Hello!\n",
      "Hello!\n",
      "Hello!\n",
      "Hello!\n",
      "Hello!\n"
     ]
    }
   ],
   "source": [
    "def greet(times):\n",
    "    i = 0\n",
    "    while i < times:\n",
    "        print(\"Hello!\")\n",
    "        i += 1\n",
    "\n",
    "greet(5)"
   ]
  },
  {
   "cell_type": "code",
   "execution_count": null,
   "id": "3bd65c6b-0b56-4cd9-be23-a0c80c160ce4",
   "metadata": {},
   "outputs": [],
   "source": []
  }
 ],
 "metadata": {
  "kernelspec": {
   "display_name": "Python 3 (ipykernel)",
   "language": "python",
   "name": "python3"
  },
  "language_info": {
   "codemirror_mode": {
    "name": "ipython",
    "version": 3
   },
   "file_extension": ".py",
   "mimetype": "text/x-python",
   "name": "python",
   "nbconvert_exporter": "python",
   "pygments_lexer": "ipython3",
   "version": "3.9.6"
  }
 },
 "nbformat": 4,
 "nbformat_minor": 5
}
